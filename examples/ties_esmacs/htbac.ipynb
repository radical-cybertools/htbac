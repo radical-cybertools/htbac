{
 "cells": [
  {
   "cell_type": "code",
   "execution_count": null,
   "metadata": {},
   "outputs": [],
   "source": [
    "from htbac import Runner, Protocol, Simulation, System, AbFile, DataAggregate\n",
    "from htbac.protocols import RFE, ESMACS # Allows users to utilize pre-defined protocols "
   ]
  },
  {
   "cell_type": "code",
   "execution_count": null,
   "metadata": {},
   "outputs": [],
   "source": [
    "export RADICAL_PILOT_DBURL=<mongodb://>\n",
    "export SAGA_PTY_SSH_TIMEOUT=2000\n",
    "export RADICAL_PILOT_PROFILE=True\n",
    "export PATH=/usr/sbin:$PATH\n",
    "export RADICAL_VERBOSE=\"DEBUG\"\n",
    "export RADICAL_ENTK_PROFILE=True"
   ]
  },
  {
   "cell_type": "code",
   "execution_count": null,
   "metadata": {},
   "outputs": [],
   "source": [
    "# define system\n",
    "pdb = AbFile('systems/ptp1b-l1-l2-complex.pdb', tag='pdb')\n",
    "top = AbFile('systems/ptp1b-l1-l2-complex.top', tag='topology')\n",
    "tag = AbFile('systems/ptp1b-l1-l2-tags.pdb', tag='alchemicaltags')\n",
    "cor = AbFile('systems/ptp1b-l1-l2-complex.inpcrd', tag='coordinate')\n",
    "system = System(name='ptp1b-l1-l2', files=[pdb, top, tag, cor])"
   ]
  },
  {
   "cell_type": "code",
   "execution_count": null,
   "metadata": {},
   "outputs": [],
   "source": [
    "# Create customized simulation steps for relative free energy protocol\n",
    "\n",
    "# define protocol:\n",
    "p = Protocol()\n",
    "\n",
    "# define step 0: \n",
    "s0 = Simulation(name='minimizer')\n",
    "s0.engine = 'namd'\n",
    "s0.add_ensemble('replica', range(5))\n",
    "s0.add_ensemble('lambdawindow', [1.0, 0.5, 0.0]) \n",
    "s0.add_input_file(\"default_configs/rfe/ties-0.conf\", is_executable_argument=True)\n",
    "s0.system = system\n",
    "\n",
    "# set all values that have <placeholder> in the *.conf file \n",
    "\n",
    "s0.cutoff = 10.0\n",
    "s0.switchdist = 8.0\n",
    "s0.pairlistdist = 11.5\n",
    "s0.numsteps = 5000\n",
    "s0.watermodel = \"tip3\"\n",
    "\n",
    "# append step 0 to protocol:\n",
    "p.append(s0)\n",
    "\n",
    "# define step 1: \n",
    "s1 = Simulation(name='equilibrate')\n",
    "s1.engine = 'namd'\n",
    "s1.add_ensemble('replica', range(5))\n",
    "s1.add_ensemble('lambdawindow', [1.0, 0.5, 0.0])\n",
    "s1.add_input_file(\"default_configs/rfe/ties-1.conf\", is_executable_argument=True)\n",
    "s1.system = system\n",
    "\n",
    "# <placeholders>\n",
    "s1.cutoff = 10.0\n",
    "s1.switchdist = 8.0\n",
    "s1.pairlistdist = 11.5\n",
    "s1.numsteps = 50000 \n",
    "\n",
    "# append step 1 to protocol:\n",
    "p.append(s1)\n",
    "\n",
    "ht = Runner('titan_orte', comm_server=('two.radical-project.org', 33048))\n",
    "ht.add_protocol(p)\n",
    "ht.run(walltime=480)\n"
   ]
  },
  {
   "cell_type": "code",
   "execution_count": null,
   "metadata": {},
   "outputs": [],
   "source": [
    "# using a pre-defined protocol (RFE), add details to the simulation steps\n",
    "\n",
    "# Protocol `p` is made up of 2 simulation steps, 1 aggregate data:\n",
    "# minimize -> MD -> DataAggregate\n",
    "\n",
    "p = Protocol(RFE.minimize(),\n",
    "             RFE.simulation(),\n",
    "             DataAggregate(extension=\".alch\"))\n",
    "\n",
    "step_counts = [1000, 1000]\n",
    "\n",
    "for rfe, numsteps in zip(p.simulations(), step_counts):\n",
    "    rfe.system = system\n",
    "    rfe.engine = 'namd'\n",
    "    rfe.processes = 32\n",
    "    rfe.threads_per_process = 1\n",
    "\n",
    "    rfe.cutoff = 10.0\n",
    "    rfe.switchdist = 8.0\n",
    "    rfe.pairlistdist = 11.5\n",
    "    rfe.numsteps = numsteps\n",
    "    rfe.watermodel = 'tip3'\n",
    "\n",
    "    rfe.add_ensemble('replica', range(5))\n",
    "    rfe.add_ensemble('lambdawindow', [0.0, 0.5, 1.0])\n",
    "\n",
    "    \n",
    "ht = Runner('bw_aprun', comm_server=('two.radical-project.org', 33048))\n",
    "ht.add_protocol(p)\n",
    "ht.run(walltime=480, queue='high')\n"
   ]
  }
 ],
 "metadata": {
  "kernelspec": {
   "display_name": "Python 2",
   "language": "python",
   "name": "python2"
  },
  "language_info": {
   "codemirror_mode": {
    "name": "ipython",
    "version": 2
   },
   "file_extension": ".py",
   "mimetype": "text/x-python",
   "name": "python",
   "nbconvert_exporter": "python",
   "pygments_lexer": "ipython2",
   "version": "2.7.12"
  }
 },
 "nbformat": 4,
 "nbformat_minor": 2
}
