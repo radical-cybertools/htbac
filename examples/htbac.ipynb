{
 "cells": [
  {
   "cell_type": "code",
   "execution_count": 5,
   "metadata": {},
   "outputs": [
    {
     "name": "stderr",
     "output_type": "stream",
     "text": [
      "2018-08-29 12:14:16,615: htbac.abpath        : MainProcess                     : MainThread     : INFO    : python.interpreter   version: 2.7.12 (default, Oct 11 2016, 05:24:00) [GCC 4.2.1 Compatible Apple LLVM 8.0.0 (clang-800.0.38)]\n",
      "2018-08-29 12:14:16,615: htbac.abpath        : MainProcess                     : MainThread     : INFO    :                      pid/tid: 30468/MainThread\n",
      "2018-08-29 12:14:16,616: htbac.simulation    : MainProcess                     : MainThread     : INFO    : python.interpreter   version: 2.7.12 (default, Oct 11 2016, 05:24:00) [GCC 4.2.1 Compatible Apple LLVM 8.0.0 (clang-800.0.38)]\n",
      "2018-08-29 12:14:16,616: htbac.simulation    : MainProcess                     : MainThread     : INFO    :                      pid/tid: 30468/MainThread\n",
      "2018-08-29 12:14:16,617: htbac.htbac         : MainProcess                     : MainThread     : INFO    : python.interpreter   version: 2.7.12 (default, Oct 11 2016, 05:24:00) [GCC 4.2.1 Compatible Apple LLVM 8.0.0 (clang-800.0.38)]\n",
      "2018-08-29 12:14:16,617: htbac.htbac         : MainProcess                     : MainThread     : INFO    :                      pid/tid: 30468/MainThread\n",
      "2018-08-29 12:14:16,618: htbac.protocol      : MainProcess                     : MainThread     : INFO    : python.interpreter   version: 2.7.12 (default, Oct 11 2016, 05:24:00) [GCC 4.2.1 Compatible Apple LLVM 8.0.0 (clang-800.0.38)]\n",
      "2018-08-29 12:14:16,618: htbac.protocol      : MainProcess                     : MainThread     : INFO    :                      pid/tid: 30468/MainThread\n",
      "2018-08-29 12:14:16,793: htbac.system        : MainProcess                     : MainThread     : INFO    : python.interpreter   version: 2.7.12 (default, Oct 11 2016, 05:24:00) [GCC 4.2.1 Compatible Apple LLVM 8.0.0 (clang-800.0.38)]\n",
      "2018-08-29 12:14:16,793: htbac.system        : MainProcess                     : MainThread     : INFO    :                      pid/tid: 30468/MainThread\n"
     ]
    }
   ],
   "source": [
    "from htbac import Runner, Protocol, Simulation, System, AbFile, DataAggregate\n",
    "from htbac.protocols import RFE, ESMACS # Allows users to utilize pre-defined protocols "
   ]
  },
  {
   "cell_type": "code",
   "execution_count": 6,
   "metadata": {},
   "outputs": [],
   "source": [
    "# define system\n",
    "pdb = AbFile('systems/ptp1b-l1-l2-complex.pdb', tag='pdb')\n",
    "top = AbFile('systems/ptp1b-l1-l2-complex.top', tag='topology')\n",
    "tag = AbFile('systems/ptp1b-l1-l2-tags.pdb', tag='alchemicaltags')\n",
    "cor = AbFile('systems/ptp1b-l1-l2-complex.inpcrd', tag='coordinate')\n",
    "system = System(name='ptp1b-l1-l2', files=[pdb, top, tag, cor])"
   ]
  },
  {
   "cell_type": "code",
   "execution_count": 7,
   "metadata": {},
   "outputs": [
    {
     "name": "stdout",
     "output_type": "stream",
     "text": [
      "False\n",
      "/Users/JumanaDakka/git/htbac/examples\n"
     ]
    }
   ],
   "source": [
    "import os \n",
    "print os.path.exists(\"/Users/JumanaDakka/git/htbac/examples/default-configs/rfe/ties-0.conf\")\n",
    "print(os.getcwd())"
   ]
  },
  {
   "cell_type": "code",
   "execution_count": 4,
   "metadata": {},
   "outputs": [
    {
     "ename": "NameError",
     "evalue": "name 'Protocol' is not defined",
     "output_type": "error",
     "traceback": [
      "\u001b[0;31m---------------------------------------------------------------------------\u001b[0m",
      "\u001b[0;31mNameError\u001b[0m                                 Traceback (most recent call last)",
      "\u001b[0;32m<ipython-input-4-0c88a83b59e1>\u001b[0m in \u001b[0;36m<module>\u001b[0;34m()\u001b[0m\n\u001b[1;32m      2\u001b[0m \u001b[0;34m\u001b[0m\u001b[0m\n\u001b[1;32m      3\u001b[0m \u001b[0;31m# define protocol:\u001b[0m\u001b[0;34m\u001b[0m\u001b[0;34m\u001b[0m\u001b[0m\n\u001b[0;32m----> 4\u001b[0;31m \u001b[0mp\u001b[0m \u001b[0;34m=\u001b[0m \u001b[0mProtocol\u001b[0m\u001b[0;34m(\u001b[0m\u001b[0;34m)\u001b[0m\u001b[0;34m\u001b[0m\u001b[0m\n\u001b[0m\u001b[1;32m      5\u001b[0m \u001b[0;34m\u001b[0m\u001b[0m\n\u001b[1;32m      6\u001b[0m \u001b[0;31m# define step 0:\u001b[0m\u001b[0;34m\u001b[0m\u001b[0;34m\u001b[0m\u001b[0m\n",
      "\u001b[0;31mNameError\u001b[0m: name 'Protocol' is not defined"
     ]
    }
   ],
   "source": [
    "# Create simulation steps for relative free energy protocol\n",
    "\n",
    "# define protocol:\n",
    "p = Protocol()\n",
    "\n",
    "# define step 0: \n",
    "s0 = Simulation(name='minimizer')\n",
    "s0.engine = 'openmm'\n",
    "s0.add_ensemble('replica', range(5))\n",
    "s0.add_ensemble('lambdawindow', [1.0, 0.5, 0.0])\n",
    "s0.numsteps = 5000 \n",
    "s0.add_input_file(\"default_configs/rfe/ties-0.conf\", is_executable_argument=True)\n",
    "s0.system = system\n",
    "\n",
    "\n",
    "# append step 0 to protocol:\n",
    "p.append(s0)\n",
    "\n",
    "# define step 1: \n",
    "s1 = Simulation(name='equilibrate')\n",
    "s1.engine = 'openmm'\n",
    "s1.add_ensemble('replica', range(5))\n",
    "s1.add_ensemble('lambdawindow', [1.0, 0.5, 0.0])\n",
    "s1.add_input_file(\"default_configs/rfe/ties-1.conf\", is_executable_argument=True)\n",
    "s1.numsteps = 50000 \n",
    "s1.system = system\n",
    "\n",
    "# append step 1 to protocol:\n",
    "p.append(s1)\n",
    "\n",
    "ht = Runner('titan_orte', comm_server=('two.radical-project.org', 33048))\n",
    "ht.add_protocol(p)\n",
    "ht.run(walltime=480)\n"
   ]
  },
  {
   "cell_type": "code",
   "execution_count": 6,
   "metadata": {},
   "outputs": [
    {
     "name": "stderr",
     "output_type": "stream",
     "text": [
      "2018-08-29 10:55:22,984: htbac.simulation    : MainProcess                     : MainThread     : DEBUG   : simulation: adding var cutoff. Its value is None.\n",
      "2018-08-29 10:55:22,984: htbac.simulation    : MainProcess                     : MainThread     : DEBUG   : simulation: adding var numsteps. Its value is None.\n",
      "2018-08-29 10:55:22,984: htbac.simulation    : MainProcess                     : MainThread     : DEBUG   : simulation: adding var switchdist. Its value is None.\n",
      "2018-08-29 10:55:22,984: htbac.simulation    : MainProcess                     : MainThread     : DEBUG   : simulation: adding var box_z. Its value is None.\n",
      "2018-08-29 10:55:22,985: htbac.simulation    : MainProcess                     : MainThread     : DEBUG   : simulation: adding var alchemicaltags. Its value is None.\n",
      "2018-08-29 10:55:22,985: htbac.simulation    : MainProcess                     : MainThread     : DEBUG   : simulation: adding var box_y. Its value is None.\n",
      "2018-08-29 10:55:22,985: htbac.simulation    : MainProcess                     : MainThread     : DEBUG   : simulation: adding var pairlistdist. Its value is None.\n",
      "2018-08-29 10:55:22,985: htbac.simulation    : MainProcess                     : MainThread     : DEBUG   : simulation: adding var output. Its value is None.\n",
      "2018-08-29 10:55:22,985: htbac.simulation    : MainProcess                     : MainThread     : DEBUG   : simulation: adding var box_x. Its value is None.\n",
      "2018-08-29 10:55:22,985: htbac.simulation    : MainProcess                     : MainThread     : DEBUG   : simulation: adding var lambdawindow. Its value is None.\n",
      "2018-08-29 10:55:22,986: htbac.simulation    : MainProcess                     : MainThread     : DEBUG   : simulation: adding var pdb. Its value is None.\n",
      "2018-08-29 10:55:22,987: htbac.simulation    : MainProcess                     : MainThread     : DEBUG   : simulation: adding var watermodel. Its value is None.\n",
      "2018-08-29 10:55:22,987: htbac.simulation    : MainProcess                     : MainThread     : DEBUG   : simulation: adding var topology. Its value is None.\n",
      "2018-08-29 10:55:22,987: htbac.simulation    : MainProcess                     : MainThread     : DEBUG   : simulation: adding var cutoff. Its value is None.\n",
      "2018-08-29 10:55:22,988: htbac.simulation    : MainProcess                     : MainThread     : DEBUG   : simulation: adding var numsteps. Its value is None.\n",
      "2018-08-29 10:55:22,988: htbac.simulation    : MainProcess                     : MainThread     : DEBUG   : simulation: adding var switchdist. Its value is None.\n",
      "2018-08-29 10:55:22,988: htbac.simulation    : MainProcess                     : MainThread     : DEBUG   : simulation: adding var lambdawindow. Its value is None.\n",
      "2018-08-29 10:55:22,988: htbac.simulation    : MainProcess                     : MainThread     : DEBUG   : simulation: adding var alchemicaltags. Its value is None.\n",
      "2018-08-29 10:55:22,988: htbac.simulation    : MainProcess                     : MainThread     : DEBUG   : simulation: adding var output. Its value is None.\n",
      "2018-08-29 10:55:22,988: htbac.simulation    : MainProcess                     : MainThread     : DEBUG   : simulation: adding var pairlistdist. Its value is None.\n",
      "2018-08-29 10:55:22,988: htbac.simulation    : MainProcess                     : MainThread     : DEBUG   : simulation: adding var input. Its value is None.\n",
      "2018-08-29 10:55:22,988: htbac.simulation    : MainProcess                     : MainThread     : DEBUG   : simulation: adding var pdb. Its value is None.\n",
      "2018-08-29 10:55:22,988: htbac.simulation    : MainProcess                     : MainThread     : DEBUG   : simulation: adding var watermodel. Its value is None.\n",
      "2018-08-29 10:55:22,989: htbac.simulation    : MainProcess                     : MainThread     : DEBUG   : simulation: adding var topology. Its value is None.\n",
      "2018-08-29 10:55:22,989: htbac.protocol      : MainProcess                     : MainThread     : DEBUG   : Renaming simulation to simulation-0\n",
      "2018-08-29 10:55:22,989: htbac.protocol      : MainProcess                     : MainThread     : DEBUG   : Renaming simulation to simulation-1\n",
      "2018-08-29 10:55:22,990: htbac.simulation    : MainProcess                     : MainThread     : DEBUG   : simulation-0: adding var replica. Its value is None.\n",
      "2018-08-29 10:55:22,990: htbac.simulation    : MainProcess                     : MainThread     : INFO    : simulation-0: adding ensemble replica with possible values [0, 1, 2, 3, 4].\n",
      "2018-08-29 10:55:22,990: htbac.simulation    : MainProcess                     : MainThread     : INFO    : simulation-0: adding ensemble lambdawindow with possible values [1.0, 0.5, 0.0].\n",
      "2018-08-29 10:55:22,990: htbac.simulation    : MainProcess                     : MainThread     : DEBUG   : simulation-1: adding var replica. Its value is None.\n",
      "2018-08-29 10:55:22,990: htbac.simulation    : MainProcess                     : MainThread     : INFO    : simulation-1: adding ensemble replica with possible values [0, 1, 2, 3, 4].\n",
      "2018-08-29 10:55:22,990: htbac.simulation    : MainProcess                     : MainThread     : INFO    : simulation-1: adding ensemble lambdawindow with possible values [1.0, 0.5, 0.0].\n"
     ]
    }
   ],
   "source": [
    "# using a pre-defined protocol (RFE), add details to the simulation steps\n",
    "\n",
    "p = RFE()\n",
    "p.append(DataAggregate(extension=\".alch\"))\n",
    "\n",
    "    # Protocol `p` is made up of 2 steps:\n",
    "    # minimize -> simulate \n",
    "\n",
    "for sim, numsteps in zip(p.simulations(), [5000, 50000]):\n",
    "\n",
    "    sim.system = system\n",
    "    sim.engine = 'namd'\n",
    "    \n",
    "    sim.cutoff = 12.0\n",
    "    sim.switchdist = 10.0\n",
    "    sim.pairlistdist = 13.5\n",
    "    sim.numsteps = numsteps\n",
    "\n",
    "    sim.processes = 1\n",
    "    sim.threads_per_process = 16\n",
    "    sim.variables = dict()\n",
    "    sim.add_ensemble('replica', range(5))\n",
    "    sim.add_ensemble('lambdawindow', [1.0, 0.5, 0.0])\n",
    "    \n",
    "ht = Runner('bw_aprun', comm_server=('two.radical-project.org', 33048))\n",
    "ht.add_protocol(p)\n",
    "ht.run(walltime=480, queue='high')\n"
   ]
  },
  {
   "cell_type": "code",
   "execution_count": null,
   "metadata": {},
   "outputs": [],
   "source": [
    "# ESMACS protocol (4) steps: minimize -> thermal_equilibration -> equilibrate -> production MD\n",
    "\n",
    "p = ESMACS()\n"
   ]
  }
 ],
 "metadata": {
  "kernelspec": {
   "display_name": "Python 2",
   "language": "python",
   "name": "python2"
  },
  "language_info": {
   "codemirror_mode": {
    "name": "ipython",
    "version": 2
   },
   "file_extension": ".py",
   "mimetype": "text/x-python",
   "name": "python",
   "nbconvert_exporter": "python",
   "pygments_lexer": "ipython2",
   "version": "2.7.12"
  }
 },
 "nbformat": 4,
 "nbformat_minor": 2
}
