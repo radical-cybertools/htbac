{
 "cells": [
  {
   "cell_type": "code",
   "execution_count": 6,
   "metadata": {
    "collapsed": true
   },
   "outputs": [],
   "source": [
    "import pandas as pd\n",
    "import matplotlib.pyplot as plt\n",
    "import matplotlib as mpl\n",
    "import os\n",
    "from __future__ import unicode_literals\n",
    "from IPython.core.display import display, HTML\n",
    "import glob\n",
    "from radical.entk import Profiler\n",
    "import radical.analytics as ra\n",
    "import radical.utils as ru\n",
    "import radical.pilot as rp\n",
    "\n",
    "\n",
    "pd.set_option('expand_frame_repr', False)\n",
    "pd.set_option('display.max_rows', 50)\n",
    "\n",
    "%matplotlib inline"
   ]
  },
  {
   "cell_type": "code",
   "execution_count": 7,
   "metadata": {
    "collapsed": true
   },
   "outputs": [],
   "source": [
    "# Generate task uids\n",
    "\n",
    "def get_task_uids(num_pipelines):\n",
    "    \n",
    "    num_tasks = num_pipelines*4*1\n",
    "    task_uids = []\n",
    "    for t in range(num_tasks):\n",
    "        task_uids.append('radical.entk.task.%04d'%t)\n",
    "\n",
    "    return task_uids"
   ]
  },
  {
   "cell_type": "code",
   "execution_count": 17,
   "metadata": {
    "collapsed": true
   },
   "outputs": [],
   "source": [
    "\n",
    "# Get information from all the entk profiles\n",
    "\n",
    "def get_entk_info(pipelines):\n",
    "    \n",
    "    p = Profiler(src = './64_replicas_2_instances')\n",
    "    \n",
    "    task_uids = get_task_uids(pipelines)\n",
    "    \n",
    "    entk_dur = p.duration(task_uids, states=['SCHEDULING','DONE'])\n",
    "    \n",
    "    # Time taken in appmanager to rreq function call\n",
    "    entk_core_1 = p.duration('radical.entk.appmanager.0000', events=['create amgr obj', 'init rreq submission'])\n",
    "    \n",
    "    # Time taken to tear down appmanager\n",
    "    entk_core_2 = p.duration('radical.entk.appmanager.0000', events=['start termination', 'termination done'])\n",
    "    \n",
    "    # Time taken to create resource manager obj\n",
    "    entk_core_3 = p.duration('radical.entk.resource_manager.0000', events = ['create rmgr obj', 'rmgr obj created'])\n",
    "    \n",
    "    # Time taken to create and submit resource reservation\n",
    "    entk_core_4 = p.duration('radical.entk.resource_manager.0000', events = ['creating rreq', 'rreq submitted'])\n",
    "    \n",
    "    # Time taken to deallocate resource reservation\n",
    "    entk_core_5 = p.duration('radical.entk.resource_manager.0000', events = ['canceling resource allocation', 'resource allocation cancelled'])\n",
    "    \n",
    "    entk_core_dur = entk_core_1 + entk_core_2 + entk_core_3 \n",
    "    \n",
    "    #entk_total_dur = entk_dur_1 + entk_dur_2 + entk_core_dur\n",
    "    \n",
    "    return entk_dur"
   ]
  },
  {
   "cell_type": "code",
   "execution_count": 48,
   "metadata": {
    "collapsed": true
   },
   "outputs": [],
   "source": [
    "# Get information from all the rp profile files and json file\n",
    "# returns 0,0 if no rp files are found\n",
    "\n",
    "def get_rp_info(pipeline):\n",
    "\n",
    "    rp_folder = glob.glob('./64_replicas_2_instances/rp.*'.format(pipeline))\n",
    "    src = rp_folder[0]\n",
    "    session = ra.Session(stype='radical.pilot', src=src)\n",
    "    units = session.filter(etype='unit', inplace=False)\n",
    "    pilots = session.filter(etype='pilot', inplace=False)\n",
    "    exec_dur = units.duration([rp.AGENT_EXECUTING, rp.DONE])\n",
    "    rp_dur = units.duration([rp.UMGR_SCHEDULING_PENDING, rp.DONE])\n",
    "    task_exec_dur = []\n",
    "\n",
    "    get_units = session.get(etype='unit')\n",
    "    print len(get_units)\n",
    "    #assert len(get_units) == pipeline*4\n",
    "\n",
    "    sorted_units = sorted(units.list('uid'))\n",
    "    # print sorted_units\n",
    "\n",
    "    for x in range(0, pipeline*8, pipeline):\n",
    "    #   print x\n",
    "    #   print x + pipeline\n",
    "    #   print sorted_units[x:x+pipeline]\n",
    "        session = ra.Session(stype='radical.pilot', src=src)\n",
    "        subset_units = session.filter(uid=sorted_units[x:x+pipeline])\n",
    "        exec_dur = subset_units.duration([rp.AGENT_EXECUTING, rp.DONE])\n",
    "        task_exec_dur.append(exec_dur)\n",
    "    return rp_dur, task_exec_dur\n"
   ]
  },
  {
   "cell_type": "code",
   "execution_count": 60,
   "metadata": {},
   "outputs": [
    {
     "name": "stdout",
     "output_type": "stream",
     "text": [
      "64\n",
      "2512.16070032 2509.54780006 4930.9466002\n"
     ]
    },
    {
     "data": {
      "text/html": [
       "<div>\n",
       "<style scoped>\n",
       "    .dataframe tbody tr th:only-of-type {\n",
       "        vertical-align: middle;\n",
       "    }\n",
       "\n",
       "    .dataframe tbody tr th {\n",
       "        vertical-align: top;\n",
       "    }\n",
       "\n",
       "    .dataframe thead th {\n",
       "        text-align: right;\n",
       "    }\n",
       "</style>\n",
       "<table border=\"1\" class=\"dataframe\">\n",
       "  <thead>\n",
       "    <tr style=\"text-align: right;\">\n",
       "      <th></th>\n",
       "      <th>Stage 1 (Instance 1)</th>\n",
       "      <th>Stage 1 (Instance 2)</th>\n",
       "      <th>Stage 2 (Instance 1)</th>\n",
       "      <th>Stage 2 (Instance 2)</th>\n",
       "      <th>Stage 3 (Instance 1)</th>\n",
       "      <th>Stage 3 (Instance 2)</th>\n",
       "      <th>Stage 4 (Instance 1)</th>\n",
       "      <th>Stage 4 (Instance 1)</th>\n",
       "    </tr>\n",
       "  </thead>\n",
       "  <tbody>\n",
       "    <tr>\n",
       "      <th>8</th>\n",
       "      <td>232.1405</td>\n",
       "      <td>231.7469</td>\n",
       "      <td>177.9027</td>\n",
       "      <td>172.1163</td>\n",
       "      <td>1852.3942</td>\n",
       "      <td>1845.8667</td>\n",
       "      <td>223.6951</td>\n",
       "      <td>195.0842</td>\n",
       "    </tr>\n",
       "  </tbody>\n",
       "</table>\n",
       "</div>"
      ],
      "text/plain": [
       "   Stage 1 (Instance 1)  Stage 1 (Instance 2)  Stage 2 (Instance 1)  Stage 2 (Instance 2)  Stage 3 (Instance 1)  Stage 3 (Instance 2)  Stage 4 (Instance 1)  Stage 4 (Instance 1)\n",
       "8              232.1405              231.7469              177.9027              172.1163             1852.3942             1845.8667              223.6951              195.0842"
      ]
     },
     "execution_count": 60,
     "metadata": {},
     "output_type": "execute_result"
    }
   ],
   "source": [
    "df = pd.DataFrame(columns=['EnTK overhead', 'RP overhead', 'Execution duration'])\n",
    "df_stages = pd.DataFrame(columns=['Stage 1 (Instance 1)', 'Stage 1 (Instance 2)', 'Stage 2 (Instance 1)', 'Stage 2 (Instance 2)', \n",
    "                                  'Stage 3 (Instance 1)', 'Stage 3 (Instance 2)','Stage 4 (Instance 1)', 'Stage 4 (Instance 1)']) \n",
    "pipelines_list = [8]\n",
    "\n",
    "for pipelines in pipelines_list:\n",
    "    entk_dur = get_entk_info(pipelines)\n",
    "    rp_dur, task_exec_dur = get_rp_info(pipelines)\n",
    "    \n",
    "    print entk_dur, rp_dur, sum(task_exec_dur)\n",
    "    df.loc[pipelines] = [entk_dur - rp_dur, rp_dur - sum(task_exec_dur) , task_exec_dur]\n",
    "    df_stages.loc[pipelines] = task_exec_dur\n",
    "df   \n",
    "df_stages"
   ]
  },
  {
   "cell_type": "code",
   "execution_count": 55,
   "metadata": {
    "collapsed": true
   },
   "outputs": [],
   "source": [
    "%matplotlib inline"
   ]
  },
  {
   "cell_type": "code",
   "execution_count": 43,
   "metadata": {},
   "outputs": [
    {
     "data": {
      "text/plain": [
       "u'\\nax = df.plot(kind=\\'bar\\', title=\\'Time taken by EnTK and RP to execute a workflow consisting of \\n X Pipelines, 7 Stages per Pipeline and 1 Task per Stage on NCSA.BW (Task executable = \"sleep 0\", number of trials per data point = 1)\\')\\nax.set_xlabel(\\'Number of Pipelines\\')\\nax.set_ylabel(\\'Time (seconds)\\')\\n\\n\\nfig = plt.gcf()\\nfig.set_size_inches(18.5, 10.5)\\nfig.savefig(\\'null_worload_devel.pdf\\', dpi=100)\\n'"
      ]
     },
     "execution_count": 43,
     "metadata": {},
     "output_type": "execute_result"
    }
   ],
   "source": [
    "'''\n",
    "ax = df.plot(kind='bar', title='Time taken by EnTK and RP to execute a workflow consisting of \\n X Pipelines, 7 Stages per Pipeline and 1 Task per Stage on NCSA.BW (Task executable = \"sleep 0\", number of trials per data point = 1)')\n",
    "ax.set_xlabel('Number of Pipelines')\n",
    "ax.set_ylabel('Time (seconds)')\n",
    "\n",
    "\n",
    "fig = plt.gcf()\n",
    "fig.set_size_inches(18.5, 10.5)\n",
    "fig.savefig('null_worload_devel.pdf', dpi=100)\n",
    "'''"
   ]
  },
  {
   "cell_type": "code",
   "execution_count": 56,
   "metadata": {},
   "outputs": [
    {
     "data": {
      "text/html": [
       "<style>.container { width:100% !important; }</style>"
      ],
      "text/plain": [
       "<IPython.core.display.HTML object>"
      ]
     },
     "metadata": {},
     "output_type": "execute_result"
    }
   ],
   "source": [
    "# Global configurations\n",
    "# ---------------------\n",
    "\n",
    "# Expand the notebook to the width of the browser\n",
    "display(HTML(\"<style>.container { width:100% !important; }</style>\"))\n",
    "\n",
    "# Matplotlib style\n",
    "plt.style.use('seaborn-colorblind')\n",
    "\n",
    "# Use LaTeX and its body font for the diagrams' text.\n",
    "mpl.rcParams['text.usetex'] = True\n",
    "mpl.rcParams['text.latex.unicode'] = True\n",
    "mpl.rcParams['font.family'] = 'serif'\n",
    "mpl.rcParams['font.serif']  = ['Nimbus Roman Becker No9L']\n",
    "\n",
    "# Font sizes\n",
    "SIZE = 24\n",
    "plt.rc('font', size=SIZE)  # controls default text sizes\n",
    "plt.rc('axes', titlesize=SIZE)  # fontsize of the axes title\n",
    "plt.rc('axes', labelsize=SIZE)  # fontsize of the x any y labels\n",
    "plt.rc('xtick', labelsize=SIZE)  # fontsize of the tick labels\n",
    "plt.rc('ytick', labelsize=SIZE)  # fontsize of the tick labels\n",
    "plt.rc('legend', fontsize=SIZE-2)  # legend fontsize\n",
    "plt.rc('figure', titlesize=SIZE)  # # size of the figure title\n",
    "\n",
    "# Use thinner lines for axes to avoid distractions.\n",
    "mpl.rcParams['axes.linewidth']    = 1\n",
    "mpl.rcParams['xtick.major.width'] = 1\n",
    "mpl.rcParams['xtick.minor.width'] = 1\n",
    "mpl.rcParams['ytick.major.width'] = 1\n",
    "mpl.rcParams['ytick.minor.width'] = 1\n",
    "mpl.rcParams['lines.linewidth'] = 2\n",
    "\n",
    "\n",
    "# Do not use a box for the legend to avoid distractions.\n",
    "mpl.rcParams['legend.frameon'] = False\n",
    "\n",
    "# Restore part of matplotlib 1.5 behavior\n",
    "mpl.rcParams['patch.force_edgecolor'] = True\n",
    "mpl.rcParams['errorbar.capsize'] = 3\n",
    "\n",
    "# Helpers\n",
    "# -------\n",
    "\n",
    "# Use coordinated colors. These are the \"Tableau 20\" colors as \n",
    "# RGB. Each pair is strong/light. For a theory of color    \n",
    "tableau20 = [(31 , 119, 180), (174, 199, 232), # blue        [ 0,1 ]\n",
    "             (255, 127, 14 ), (255, 187, 120), # orange      [ 2,3 ]\n",
    "             (44 , 160, 44 ), (152, 223, 138), # green       [ 4,5 ]\n",
    "             (214, 39 , 40 ), (255, 152, 150), # red         [ 6,7 ]\n",
    "             (148, 103, 189), (197, 176, 213), # purple      [ 8,9 ]\n",
    "             (140, 86 , 75 ), (196, 156, 148), # brown       [10,11]\n",
    "             (227, 119, 194), (247, 182, 210), # pink        [12,13]\n",
    "             (188, 189, 34 ), (219, 219, 141), # yellow      [14,15]\n",
    "             (23 , 190, 207), (158, 218, 229), # cyan        [16,17]\n",
    "             (65 , 68 , 81 ), (96 , 99 , 106), # gray        [18,19]\n",
    "             (127, 127, 127), (143, 135, 130), # gray        [20,21] \n",
    "             (165, 172, 175), (199, 199, 199), # gray        [22,23]\n",
    "             (207, 207, 207)]                   # gray        [24]\n",
    "  \n",
    "# Scale the RGB values to the [0, 1] range, which is the format \n",
    "# matplotlib accepts.    \n",
    "for i in range(len(tableau20)):  \n",
    "    r, g, b = tableau20[i]  \n",
    "    tableau20[i] = (r / 255., g / 255., b / 255.)    \n",
    "\n",
    "# Return a single plot without right and top axes\n",
    "def fig_setup():\n",
    "    fig = plt.figure(figsize=(16,8))\n",
    "    ax = fig.add_subplot(111)    \n",
    "    ax.get_xaxis().tick_bottom()  \n",
    "    ax.get_yaxis().tick_left()\n",
    "    \n",
    "    return fig, ax"
   ]
  },
  {
   "cell_type": "code",
   "execution_count": 67,
   "metadata": {},
   "outputs": [
    {
     "data": {
      "image/png": "[encoded data removed]",
      "text/plain": [
       "<matplotlib.figure.Figure at 0x114c2f6d0>"
      ]
     },
     "metadata": {},
     "output_type": "display_data"
    }
   ],
   "source": [
    "fig, ax = fig_setup()\n",
    "\n",
    "width=0.1\n",
    "ax = df.plot(kind='bar', \n",
    "             ax=ax,\n",
    "             #y=df.columns.drop('Execution duration').tolist(),\n",
    "             y=df.columns.drop('RP overhead'),\n",
    "             fontsize=SIZE,\n",
    "             width=width,\n",
    "             position=1,\n",
    "             color = [tableau20[(16)], tableau20[(20)]],\n",
    "             title='2j698 Systems Running at 55,000 Steps (radical.htbac) using 2 ESMACS instances',\n",
    "             legend=False)\n",
    "\n",
    "\n",
    "ax2 = df_stages.plot(ax=ax, stacked=True, secondary_y=True, color = [tableau20[(1)], \n",
    "                                                                     tableau20[(3)], \n",
    "                                                                     tableau20[(5)], \n",
    "                                                                     tableau20[(7)],\n",
    "                                                                     tableau20[(9)],\n",
    "                                                                     tableau20[(11)],\n",
    "                                                                     tableau20[(13)]],\n",
    "                     \n",
    "                        width=width, legend=False, position=0, kind = 'bar')\n",
    "ax2.set_ylim(0,6000)\n",
    "\n",
    "ax.set_ylim(0,10)\n",
    "ax.set_xlabel('No. of replicas', fontsize=SIZE)\n",
    "ax.set_ylabel('Time (seconds)', fontsize=SIZE)\n",
    "ax2.set_ylabel('Time (seconds)', fontsize=SIZE)\n",
    "ax.set_title(ax.get_title(), fontsize=SIZE)\n",
    "\n",
    "h1, l1 = ax.get_legend_handles_labels()\n",
    "h2, l2 = ax2.get_legend_handles_labels()\n",
    "labels = l1 \n",
    "for i in range(7):\n",
    "    labels += [l2[i] + ' execution time (right)']\n",
    "handles = h1 + h2\n",
    "plt.legend(handles,labels,fontsize=SIZE, bbox_to_anchor = (1.8,1))\n",
    "plt.show()\n",
    "fig.savefig('2_esmacs_instances_2j698_data_55000_steps.pdf', dpi=100, bbox_inches='tight')"
   ]
  },
  {
   "cell_type": "code",
   "execution_count": null,
   "metadata": {
    "collapsed": true
   },
   "outputs": [],
   "source": []
  }
 ],
 "metadata": {
  "kernelspec": {
   "display_name": "Python 3",
   "language": "python",
   "name": "python3"
  },
  "language_info": {
   "codemirror_mode": {
    "name": "ipython",
    "version": 3
   },
   "file_extension": ".py",
   "mimetype": "text/x-python",
   "name": "python",
   "nbconvert_exporter": "python",
   "pygments_lexer": "ipython3",
   "version": "3.6.3"
  }
 },
 "nbformat": 4,
 "nbformat_minor": 2
}
